{
  "nbformat": 4,
  "nbformat_minor": 5,
  "metadata": {
    "kernelspec": {
      "display_name": "Python 3",
      "language": "python",
      "name": "python3"
    },
    "language_info": {
      "codemirror_mode": {
        "name": "ipython",
        "version": 3
      },
      "file_extension": ".py",
      "mimetype": "text/x-python",
      "name": "python",
      "nbconvert_exporter": "python",
      "pygments_lexer": "ipython3",
      "version": "3.8.8"
    },
    "colab": {
      "name": "pygmoWithMyFunc .ipynb",
      "provenance": [],
      "include_colab_link": true
    }
  },
  "cells": [
    {
      "cell_type": "markdown",
      "metadata": {
        "id": "view-in-github",
        "colab_type": "text"
      },
      "source": [
        "<a href=\"https://colab.research.google.com/github/Bojechko/ml_homework/blob/main/pygmoWithMyFunc_.ipynb\" target=\"_parent\"><img src=\"https://colab.research.google.com/assets/colab-badge.svg\" alt=\"Open In Colab\"/></a>"
      ]
    },
    {
      "cell_type": "code",
      "metadata": {
        "colab": {
          "base_uri": "https://localhost:8080/"
        },
        "id": "20d4e1ff",
        "outputId": "6b9fc56c-d2dd-4c9e-9d47-283f5b733932"
      },
      "source": [
        "!pip install pygmo\n"
      ],
      "id": "20d4e1ff",
      "execution_count": 43,
      "outputs": [
        {
          "output_type": "stream",
          "name": "stdout",
          "text": [
            "Requirement already satisfied: pygmo in /usr/local/lib/python3.7/dist-packages (2.16.1)\n",
            "Requirement already satisfied: numpy in /usr/local/lib/python3.7/dist-packages (from pygmo) (1.19.5)\n",
            "Requirement already satisfied: cloudpickle in /usr/local/lib/python3.7/dist-packages (from pygmo) (1.3.0)\n"
          ]
        }
      ]
    },
    {
      "cell_type": "code",
      "metadata": {
        "id": "f2080cfc"
      },
      "source": [
        "import pygmo as pg\n",
        "import numpy as np\n",
        "\n",
        "class parabaloid:\n",
        "\n",
        "    def __init__(self, dim):\n",
        "        self.dim = dim\n",
        "\n",
        "    def fitness(self,x):\n",
        "        retval = np.zeros((1,))\n",
        "        for i in range(len(x) - 1):\n",
        "          retval[0] += 2*x[i]**2 + x[i] * x[i+1] + x[i+1] **2 + 3 * x[i]\n",
        "        return retval\n",
        "    def get_bounds(self):\n",
        "        return (np.full((self.dim,),-100.),np.full((self.dim,),100.))\n",
        "\n",
        "    def get_name(self):\n",
        "        return \"Parabaloid Function\"\n",
        "\n",
        "    def get_extra_info(self):\n",
        "        return \"\\tDimensions: \" + str(self.dim)"
      ],
      "id": "f2080cfc",
      "execution_count": 44,
      "outputs": []
    },
    {
      "cell_type": "code",
      "metadata": {
        "colab": {
          "base_uri": "https://localhost:8080/"
        },
        "id": "fdcfb1cb",
        "outputId": "2c30fdc0-7580-424f-a50f-6ce4a995c8fd"
      },
      "source": [
        "prob = pg.problem(parabaloid(3))\n",
        "print(prob) "
      ],
      "id": "fdcfb1cb",
      "execution_count": 45,
      "outputs": [
        {
          "output_type": "stream",
          "name": "stdout",
          "text": [
            "Problem name: Parabaloid Function\n",
            "\tC++ class name: pybind11::object\n",
            "\n",
            "\tGlobal dimension:\t\t\t3\n",
            "\tInteger dimension:\t\t\t0\n",
            "\tFitness dimension:\t\t\t1\n",
            "\tNumber of objectives:\t\t\t1\n",
            "\tEquality constraints dimension:\t\t0\n",
            "\tInequality constraints dimension:\t0\n",
            "\tLower bounds: [-100, -100, -100]\n",
            "\tUpper bounds: [100, 100, 100]\n",
            "\tHas batch fitness evaluation: false\n",
            "\n",
            "\tHas gradient: false\n",
            "\tUser implemented gradient sparsity: false\n",
            "\tHas hessians: false\n",
            "\tUser implemented hessians sparsity: false\n",
            "\n",
            "\tFitness evaluations: 0\n",
            "\n",
            "\tThread safety: none\n",
            "\n",
            "Extra info:\n",
            "\tDimensions: 3\n"
          ]
        }
      ]
    },
    {
      "cell_type": "code",
      "metadata": {
        "colab": {
          "base_uri": "https://localhost:8080/"
        },
        "id": "9a70e3f2",
        "outputId": "f82db211-721e-4dc7-8712-8a7576c37b1c"
      },
      "source": [
        "algo = pg.algorithm(pg.bee_colony(gen = 2000, limit = 20))\n",
        "pop = pg.population(prob,10)\n",
        "pop = algo.evolve(pop)\n",
        "print(pop.champion_f) "
      ],
      "id": "9a70e3f2",
      "execution_count": 46,
      "outputs": [
        {
          "output_type": "stream",
          "name": "stdout",
          "text": [
            "[-1.60714279]\n"
          ]
        }
      ]
    }
  ]
}